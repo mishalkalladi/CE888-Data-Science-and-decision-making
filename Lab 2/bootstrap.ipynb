{
 "cells": [
  {
   "cell_type": "markdown",
   "metadata": {
    "colab_type": "text",
    "id": "view-in-github"
   },
   "source": [
    "<a href=\"https://colab.research.google.com/github/albanda/CE888/blob/master/lab2%20-%20bootstrap/bootstrap.ipynb\" target=\"_parent\"><img src=\"https://colab.research.google.com/assets/colab-badge.svg\" alt=\"Open In Colab\"/></a>"
   ]
  },
  {
   "cell_type": "markdown",
   "metadata": {
    "id": "nCi_99yMYIb1"
   },
   "source": [
    "In this notebook you'll create your own bootstrap function following the bootstrap algorithm (check the lecture notes!)"
   ]
  },
  {
   "cell_type": "code",
   "execution_count": 1,
   "metadata": {
    "id": "LY5zujI2YC37",
    "pycharm": {
     "name": "#%%# Imports\n"
    }
   },
   "outputs": [],
   "source": [
    "import matplotlib\n",
    "import pandas as pd\n",
    "import seaborn as sns\n",
    "import numpy as np\n",
    "\n"
   ]
  },
  {
   "cell_type": "code",
   "execution_count": 2,
   "metadata": {
    "id": "Eqkwj4SMY38t"
   },
   "outputs": [],
   "source": [
    "# Load the data\n",
    "df = pd.read_csv('https://raw.githubusercontent.com/albanda/CE888/master/lab2%20-%20bootstrap/customers.csv')\n",
    "data = df.values.T[1]"
   ]
  },
  {
   "cell_type": "code",
   "execution_count": 3,
   "metadata": {},
   "outputs": [
    {
     "data": {
      "text/plain": [
       "array([ 2.,  8., 20., 13.,  5.,  9., 10.,  8., 22., 10.,  2.,  4.,  7.,\n",
       "        9.])"
      ]
     },
     "execution_count": 3,
     "metadata": {},
     "output_type": "execute_result"
    }
   ],
   "source": [
    "data"
   ]
  },
  {
   "cell_type": "code",
   "execution_count": 4,
   "metadata": {
    "id": "Gxvc_bScYC4H",
    "pycharm": {
     "name": "#%%\n"
    }
   },
   "outputs": [],
   "source": [
    "# Checking the notes from the lecture, create here your own bootstrap function:\n",
    "# 1. Sample from the input array x to create an array of samples of shape (n_bootstraps, sample_size)\n",
    "# Hint: Check the function random.choice() on Numpy\n",
    "# 2. Calculate and save the mean of the array (this is \"data_mean\" that is returned by the function)\n",
    "# 3. Calculate the mean from each bootstrap (i.e., row) and store it.\n",
    "# (This should be an array of n_bootstraps values)\n",
    "# 4. Calculate the lower and upper bounds for a 95% CI (hint: check the percentile function on Numpy)\n",
    "# 5. Return data_mean, and the lower and upper bounds of your interval\n",
    "def bootstrap_mean(x, sample_size, n_bootstraps):\n",
    "    sample=np.random.choice(x,size=(n_bootstraps,sample_size))\n",
    "    data_mean=np.average(sample)\n",
    "    boot_strap_mean=[]\n",
    "    for i in sample:\n",
    "        boot_strap_mean.append(np.array(i).mean())\n",
    "        \n",
    "    #print(boot_strap_mean)\n",
    "    \n",
    "    alpha=95\n",
    "    \n",
    "    lower = np.percentile(boot_strap_mean, (100-alpha)/2)\n",
    "    upper = np.percentile(boot_strap_mean, alpha+((100-alpha)/2))\n",
    "    \n",
    "    #print(data_mean,lower,upper)\n",
    "\n",
    "    return data_mean, lower, upper\n"
   ]
  },
  {
   "cell_type": "code",
   "execution_count": 5,
   "metadata": {
    "id": "AN7sEOcMYC4P",
    "pycharm": {
     "name": "#%%\n"
    },
    "scrolled": false
   },
   "outputs": [
    {
     "name": "stderr",
     "output_type": "stream",
     "text": [
      "C:\\ProgramData\\Anaconda3\\lib\\site-packages\\seaborn\\_decorators.py:36: FutureWarning: Pass the following variables as keyword args: x, y. From version 0.12, the only valid positional argument will be `data`, and passing other arguments without an explicit keyword will result in an error or misinterpretation.\n",
      "  warnings.warn(\n"
     ]
    },
    {
     "data": {
      "text/plain": [
       "(0.0, 50000.0)"
      ]
     },
     "execution_count": 5,
     "metadata": {},
     "output_type": "execute_result"
    },
    {
     "data": {
      "image/png": "[encoded data removed]",
      "text/plain": [
       "<Figure size 425.125x360 with 1 Axes>"
      ]
     },
     "metadata": {
      "needs_background": "light"
     },
     "output_type": "display_data"
    }
   ],
   "source": [
    "# Call your bootstrap function and plot the results\n",
    "\n",
    "boots = []\n",
    "for i in range(100, 50000, 1000):\n",
    "    boot = bootstrap_mean(data, data.shape[0], i)\n",
    "    boots.append([i, boot[0], \"mean\"])\n",
    "    boots.append([i, boot[1], \"lower\"])\n",
    "    boots.append([i, boot[2], \"upper\"])\n",
    "\n",
    "df_boot = pd.DataFrame(boots, columns=['Bootstrap Iterations', 'Mean', \"Value\"])\n",
    "sns_plot = sns.lmplot(df_boot.columns[0], df_boot.columns[1], data=df_boot, fit_reg=False, hue=\"Value\")\n",
    "\n",
    "sns_plot.axes[0, 0].set_ylim(0,)\n",
    "sns_plot.axes[0, 0].set_xlim(0, 50000)\n"
   ]
  },
  {
   "cell_type": "markdown",
   "metadata": {
    "id": "MjtP4e2_YC4V"
   },
   "source": [
    "\n",
    "Now, modify the bootstrap function you created above so that you can pass your desired confidence interval as a parameter.\n",
    "\n"
   ]
  },
  {
   "cell_type": "code",
   "execution_count": 6,
   "metadata": {
    "id": "3K9j0FuGYhHs"
   },
   "outputs": [],
   "source": [
    "def bootstrap_mean_ci(x, sample_size, n_bootstraps, ci):\n",
    "\n",
    "    sample=np.random.choice(x,size=(n_bootstraps,sample_size))\n",
    "    data_mean=np.average(sample)\n",
    "    boot_strap_mean=[]\n",
    "    for i in sample:\n",
    "        boot_strap_mean.append(np.array(i).mean())\n",
    "        \n",
    "    #print(boot_strap_mean)\n",
    "    \n",
    "    \n",
    "    \n",
    "    lower = np.percentile(boot_strap_mean, (100-ci)/2)\n",
    "    upper = np.percentile(boot_strap_mean, ci+((100-ci)/2))\n",
    "    \n",
    "    #print(data_mean,lower,upper)\n",
    "\n",
    "    return data_mean, lower, upper\n"
   ]
  },
  {
   "cell_type": "code",
   "execution_count": 7,
   "metadata": {
    "id": "uDnjq08GYl-C"
   },
   "outputs": [
    {
     "name": "stderr",
     "output_type": "stream",
     "text": [
      "C:\\ProgramData\\Anaconda3\\lib\\site-packages\\seaborn\\_decorators.py:36: FutureWarning: Pass the following variables as keyword args: x, y. From version 0.12, the only valid positional argument will be `data`, and passing other arguments without an explicit keyword will result in an error or misinterpretation.\n",
      "  warnings.warn(\n"
     ]
    },
    {
     "data": {
      "text/plain": [
       "(0.0, 50000.0)"
      ]
     },
     "execution_count": 7,
     "metadata": {},
     "output_type": "execute_result"
    },
    {
     "data": {
      "image/png": "[encoded data removed]",
      "text/plain": [
       "<Figure size 425.125x360 with 1 Axes>"
      ]
     },
     "metadata": {
      "needs_background": "light"
     },
     "output_type": "display_data"
    }
   ],
   "source": [
    "boots = []\n",
    "for i in range(100, 50000, 1000):\n",
    "    boot = bootstrap_mean_ci(data, data.shape[0], i, 80)\n",
    "    boots.append([i, boot[0], \"mean\"])\n",
    "    boots.append([i, boot[1], \"lower\"])\n",
    "    boots.append([i, boot[2], \"upper\"])\n",
    "\n",
    "df_boot = pd.DataFrame(boots, columns=['Boostrap Iterations', 'Mean', \"Value\"])\n",
    "sns_plot = sns.lmplot(df_boot.columns[0], df_boot.columns[1], data=df_boot, fit_reg=False, hue=\"Value\")\n",
    "\n",
    "sns_plot.axes[0, 0].set_ylim(0,)\n",
    "sns_plot.axes[0, 0].set_xlim(0, 50000)\n",
    "\n",
    "#sns_plot.savefig(\"bootstrap_confidence_80.pdf\", bbox_inches='tight')\n"
   ]
  },
  {
   "cell_type": "markdown",
   "metadata": {
    "id": "qjNgXW6wdd7r"
   },
   "source": [
    "# Vehicles dataset\n",
    "\n",
    "Now let's work on a different dataset, which is stored in the vehicles.csv file.\n"
   ]
  },
  {
   "cell_type": "code",
   "execution_count": 8,
   "metadata": {
    "id": "avWv4ipFdpka"
   },
   "outputs": [],
   "source": [
    "# Load and visualise the vehicles dataset\n",
    "# To load the dataset: https://neptune.ai/blog/google-colab-dealing-with-files (check section \"Load individual files directly from GitHub\")\n",
    "\n",
    "\n",
    "# Note that the current and new fleets are in different columns and have different lengths, so bear this in mind when you're plotting.\n",
    "# You can create separate scatterplots for the two fleets, as you would with the histograms, \n",
    "# or plot them both in one plot (but not one against the other).\n",
    "# <---INSERT YOUR CODE HERE--->\n",
    "# Note: you can add more cells as needed to organise your code and your plots\n"
   ]
  },
  {
   "cell_type": "code",
   "execution_count": 30,
   "metadata": {
    "id": "po4mp6zRHC0m"
   },
   "outputs": [
    {
     "name": "stderr",
     "output_type": "stream",
     "text": [
      "C:\\ProgramData\\Anaconda3\\lib\\site-packages\\seaborn\\distributions.py:2557: FutureWarning: `distplot` is a deprecated function and will be removed in a future version. Please adapt your code to use either `displot` (a figure-level function with similar flexibility) or `histplot` (an axes-level function for histograms).\n",
      "  warnings.warn(msg, FutureWarning)\n",
      "C:\\ProgramData\\Anaconda3\\lib\\site-packages\\seaborn\\distributions.py:2056: FutureWarning: The `axis` variable is no longer used and will be removed. Instead, assign variables directly to `x` or `y`.\n",
      "  warnings.warn(msg, FutureWarning)\n",
      "C:\\ProgramData\\Anaconda3\\lib\\site-packages\\seaborn\\distributions.py:2557: FutureWarning: `distplot` is a deprecated function and will be removed in a future version. Please adapt your code to use either `displot` (a figure-level function with similar flexibility) or `histplot` (an axes-level function for histograms).\n",
      "  warnings.warn(msg, FutureWarning)\n",
      "C:\\ProgramData\\Anaconda3\\lib\\site-packages\\seaborn\\distributions.py:2056: FutureWarning: The `axis` variable is no longer used and will be removed. Instead, assign variables directly to `x` or `y`.\n",
      "  warnings.warn(msg, FutureWarning)\n"
     ]
    },
    {
     "data": {
      "text/plain": [
       "<AxesSubplot:>"
      ]
     },
     "execution_count": 30,
     "metadata": {},
     "output_type": "execute_result"
    },
    {
     "data": {
      "image/png": "[encoded data removed]",
      "text/plain": [
       "<Figure size 432x288 with 1 Axes>"
      ]
     },
     "metadata": {
      "needs_background": "light"
     },
     "output_type": "display_data"
    }
   ],
   "source": [
    "# <---INSERT YOUR CODE HERE--->\n",
    "df = pd.read_csv('https://raw.githubusercontent.com/albanda/CE888/master/lab2%20-%20bootstrap/vehicles.csv')\n",
    "curr_fleet = df[df.columns[0]].dropna().values\n",
    "sns.distplot(curr_fleet, bins=15, kde=False, rug=True) # Histogram\n",
    "new_fleet = df[df.columns[1]].dropna().values\n",
    "sns.distplot(new_fleet, bins=15, kde=False, rug=True) # Histogram"
   ]
  },
  {
   "cell_type": "code",
   "execution_count": 31,
   "metadata": {},
   "outputs": [
    {
     "name": "stderr",
     "output_type": "stream",
     "text": [
      "C:\\ProgramData\\Anaconda3\\lib\\site-packages\\seaborn\\_decorators.py:36: FutureWarning: Pass the following variables as keyword args: x, y. From version 0.12, the only valid positional argument will be `data`, and passing other arguments without an explicit keyword will result in an error or misinterpretation.\n",
      "  warnings.warn(\n"
     ]
    },
    {
     "data": {
      "text/plain": [
       "<seaborn.axisgrid.FacetGrid at 0x2542a00a7c0>"
      ]
     },
     "execution_count": 31,
     "metadata": {},
     "output_type": "execute_result"
    },
    {
     "data": {
      "image/png": "[encoded data removed]",
      "text/plain": [
       "<Figure size 360x360 with 1 Axes>"
      ]
     },
     "metadata": {
      "needs_background": "light"
     },
     "output_type": "display_data"
    }
   ],
   "source": [
    "sns.lmplot(df.columns[0], df.columns[1], data=df, fit_reg=False)"
   ]
  },
  {
   "cell_type": "markdown",
   "metadata": {},
   "source": [
    "## Compare the two fleets\n",
    "\n",
    "The business analysts come up a comparison algorithm that requires the upper and lower bounds for the mean in order to say which fleet is better.\n",
    "1. Calculate the mean of both samples.\n",
    "2. Using the bootstrap function that you created:\n",
    "    - Construct the 95% CI of the mean of the current fleet.\n",
    "    - Construct the 95% CI of the mean of the new fleet.\n",
    "    - Are they comparable? (i.e., is one better than the other?) -- you can do this with a permutation test (check the lecture notes!)"
   ]
  },
  {
   "cell_type": "code",
   "execution_count": 32,
   "metadata": {},
   "outputs": [
    {
     "name": "stdout",
     "output_type": "stream",
     "text": [
      "------------------------------------------Current fleet-------------------------------------------------------------------\n",
      "Mean = 20.14486722891566\n",
      "Lower bound = 19.36144578313253\n",
      "Upper bounf = 20.951807228915662\n",
      "------------------------------------------new fleet-------------------------------------------------------------------\n",
      "Mean = 30.48433417721519\n",
      "Lower bound = 29.139240506329113\n",
      "Upper bounf = 31.810126582278482\n"
     ]
    }
   ],
   "source": [
    "\n",
    "mean,lower,upper=(bootstrap_mean_ci(curr_fleet, curr_fleet.shape[0], 50000, 95))\n",
    "print('------------------------------------------Current fleet-------------------------------------------------------------------')\n",
    "print(\"Mean =\",mean)\n",
    "print(\"Lower bound =\",lower)\n",
    "print(\"Upper bounf =\",upper)\n",
    "\n",
    "\n",
    "print('------------------------------------------new fleet-------------------------------------------------------------------')\n",
    "mean,lower,upper=(bootstrap_mean_ci(new_fleet, new_fleet.shape[0], 50000, 95))\n",
    "print(\"Mean =\",mean)\n",
    "print(\"Lower bound =\",lower)\n",
    "print(\"Upper bounf =\",upper)"
   ]
  },
  {
   "cell_type": "code",
   "execution_count": 33,
   "metadata": {},
   "outputs": [],
   "source": [
    "def observed(old,new):\n",
    "    mean_old= np.mean(old)\n",
    "    mean_new = np.mean(new)\n",
    "    obs = mean_new - mean_old\n",
    "    \n",
    "    return obs"
   ]
  },
  {
   "cell_type": "code",
   "execution_count": 34,
   "metadata": {
    "id": "MkxvDZG4HC0n"
   },
   "outputs": [],
   "source": [
    "# Create your own function for a permutation test here (you will need it for the lab quiz!):\n",
    "# Create your own function for a permutation test here (you will need it for the lab quiz!):\n",
    "def permut_test(sample1, sample2, n_permutations):\n",
    "    \"\"\"\n",
    "    sample1: 1D array\n",
    "    sample2: 1D array (note that the size of the two arrays can be different)\n",
    "    n_permutations: number of permutations to calculate the p-value\n",
    "    \"\"\"\n",
    "    t_obs = observed(sample1, sample2)\n",
    "    concat = np.concatenate((sample1, sample2))\n",
    "    count = 0\n",
    "    \n",
    "    for i in range(n_permutations):\n",
    "        perm = np.random.permutation(concat)\n",
    "        perm_old = perm[:int(len(perm)/2)]\n",
    "        perm_new = perm[int(len(perm)/2):]\n",
    "        t_perm_obs = observed(perm_old, perm_new)\n",
    "        \n",
    "        if t_perm_obs > t_obs:\n",
    "            count += 1\n",
    "    p_value = count/n_permutations\n",
    "    \n",
    "    return p_value"
   ]
  },
  {
   "cell_type": "code",
   "execution_count": 35,
   "metadata": {},
   "outputs": [
    {
     "name": "stdout",
     "output_type": "stream",
     "text": [
      "p-value = 0.0\n"
     ]
    }
   ],
   "source": [
    "new_fleet = df[df.columns[0]]\n",
    "curr_fleet = df[df.columns[1]]\n",
    "pvalue = permut_test(new_fleet, curr_fleet, 50000)\n",
    "print(\"p-value =\",pvalue)"
   ]
  },
  {
   "cell_type": "markdown",
   "metadata": {},
   "source": [
    "# Quiz answers"
   ]
  },
  {
   "cell_type": "markdown",
   "metadata": {},
   "source": [
    "2. The 92% confidence interval for the mean of the old fleet in the vehicles dataset using 10000 iterations is (Answer\n",
    "   , Answer\n",
    "   ). Give your answer including the first two decimal points (e.g., 1.23)."
   ]
  },
  {
   "cell_type": "code",
   "execution_count": 39,
   "metadata": {},
   "outputs": [
    {
     "name": "stdout",
     "output_type": "stream",
     "text": [
      "------------------------------------------new fleet-------------------------------------------------------------------\n",
      "Mean = 20.143242570281124\n",
      "Lower bound = 19.445622489959838\n",
      "Upper bounf = 20.863453815261042\n"
     ]
    }
   ],
   "source": [
    "print('------------------------------------------new fleet-------------------------------------------------------------------')\n",
    "mean,lower,upper=(bootstrap_mean_ci(new_fleet, new_fleet.shape[0], 10000, 92))\n",
    "print(\"Mean =\",mean)\n",
    "print(\"Lower bound =\",lower)\n",
    "print(\"Upper bounf =\",upper)"
   ]
  },
  {
   "cell_type": "markdown",
   "metadata": {},
   "source": [
    "3. The 80% confidence interval for the mean of the customers dataset using 10000 iterations is (Answer\n",
    "   , Answer\n",
    "   ). Give your answer including the first two decimal points (e.g., 1.23)."
   ]
  },
  {
   "cell_type": "code",
   "execution_count": 47,
   "metadata": {},
   "outputs": [
    {
     "name": "stdout",
     "output_type": "stream",
     "text": [
      "Mean = 9.21347142857143\n",
      "Lower bound = 7.285714285714286\n",
      "Upper bounf = 11.214285714285714\n"
     ]
    }
   ],
   "source": [
    "df = pd.read_csv('https://raw.githubusercontent.com/albanda/CE888/master/lab2%20-%20bootstrap/customers.csv')\n",
    "data = df.values.T[1]\n",
    "mean,lower,upper = bootstrap_mean_ci(data, data.shape[0],10000,80)\n",
    "print(\"Mean =\",mean)\n",
    "print(\"Lower bound =\",lower)\n",
    "print(\"Upper bounf =\",upper)\n"
   ]
  },
  {
   "cell_type": "markdown",
   "metadata": {},
   "source": [
    "4. The 73% confidence interval for the standard deviation of the new fleet in the vehicles dataset using 10000 iterations is     (Answer\n",
    "   , Answer\n",
    "   ). Give your answer including the first two decimal points (e.g., 1.23)."
   ]
  },
  {
   "cell_type": "code",
   "execution_count": 60,
   "metadata": {},
   "outputs": [],
   "source": [
    "def bootstrap_std_ci(x, sample_size, n_bootstraps, ci):\n",
    "\n",
    "    sample=np.random.choice(x,size=(n_bootstraps,sample_size))\n",
    "    \n",
    "    data_std=np.std(sample)\n",
    "    \n",
    "    boot_strap_std=[]\n",
    "    for i in sample:\n",
    "        boot_strap_std.append(np.array(i).std())\n",
    "        \n",
    "    #print(boot_strap_mean)\n",
    "    \n",
    "    \n",
    "    \n",
    "    lower = np.percentile(boot_strap_std, (100-ci)/2)\n",
    "    upper = np.percentile(boot_strap_std, ci+((100-ci)/2))\n",
    "    \n",
    "    #print(data_mean,lower,upper)\n",
    "\n",
    "    return data_std, lower, upper"
   ]
  },
  {
   "cell_type": "code",
   "execution_count": 61,
   "metadata": {},
   "outputs": [
    {
     "name": "stdout",
     "output_type": "stream",
     "text": [
      "std = 6.062604632986363\n",
      "Lower bound = 5.5081530512958885\n",
      "Upper bounf = 6.506693827931036\n"
     ]
    }
   ],
   "source": [
    "df = pd.read_csv('https://raw.githubusercontent.com/albanda/CE888/master/lab2%20-%20bootstrap/vehicles.csv')\n",
    "new_fleet = df[df.columns[1]].dropna().values\n",
    "std,lower,upper = bootstrap_std_ci(new_fleet, new_fleet.shape[0],10000,73)\n",
    "print(\"std =\",std)\n",
    "print(\"Lower bound =\",lower)\n",
    "print(\"Upper bounf =\",upper)"
   ]
  },
  {
   "cell_type": "markdown",
   "metadata": {},
   "source": [
    "5. The 99% confidence interval for the standard deviation of the old fleet in the vehicles dataset using 10000 iterations is (Answer\n",
    "   , Answer\n",
    "   ). Give your answer including the first two decimal points (e.g., 1.23)."
   ]
  },
  {
   "cell_type": "code",
   "execution_count": 63,
   "metadata": {},
   "outputs": [
    {
     "name": "stdout",
     "output_type": "stream",
     "text": [
      "std = 6.4011998468403455\n",
      "Lower bound = 5.608128517106063\n",
      "Upper bounf = 7.115675173781451\n"
     ]
    }
   ],
   "source": [
    "df = pd.read_csv('https://raw.githubusercontent.com/albanda/CE888/master/lab2%20-%20bootstrap/vehicles.csv')\n",
    "old_fleet = df[df.columns[0]].dropna().values\n",
    "std,lower,upper = bootstrap_std_ci(old_fleet, old_fleet.shape[0],10000,99)\n",
    "print(\"std =\",std)\n",
    "print(\"Lower bound =\",lower)\n",
    "print(\"Upper bounf =\",upper)"
   ]
  },
  {
   "cell_type": "markdown",
   "metadata": {},
   "source": [
    "8. The data for this question is in voting_data.py.\n",
    "\n",
    "   The file contains data for the 2008 US presidential election results from the “swing states” of PA and OH, specifically, the    percentage of voters who voted for the Democrats within each county in a given state. There are Answer\n",
    "   values (i.e., states) in PA and Answer\n",
    "   in OH.\n",
    "   \n",
    "   The 90% confidence intervals for the means of the votes using 25000 bootstraps are (give two decimal values, e.g., 1.23):\n",
    "\n",
    "    For OH: (Answer\n",
    "    , Answer\n",
    "    )\n",
    "\n",
    "    For PA: (Answer\n",
    "    , Answer\n",
    "    )\n",
    "\n",
    "    The p-value from a permutation test with 20000 permutations is Answer\n",
    "     (give 3 decimal points, e.g., 0.456). Since this value is Answer\n",
    "\n",
    "     0.1 (our significance level)"
   ]
  },
  {
   "cell_type": "code",
   "execution_count": 69,
   "metadata": {},
   "outputs": [
    {
     "name": "stdout",
     "output_type": "stream",
     "text": [
      "No of states in PA = 67\n",
      "No of states in OH = 88\n",
      "Mean of OH = 44.314273136363674\n",
      "Lower bound = 42.57778977272727\n",
      "Upper bounf = 46.030454545454546\n",
      "Mean of PA = 45.471298782089576\n",
      "Lower bound = 43.55371641791045\n",
      "Upper bounf = 47.45573880597015\n",
      "p-value = 0.2359\n"
     ]
    }
   ],
   "source": [
    "# The variables below represent the percentages of democratic votes in Pennsylvania and Ohio (one value for each state).\n",
    "dem_share_PA = [60.08, 40.64, 36.07, 41.21, 31.04, 43.78, 44.08, 46.85, 44.71, 46.15, 63.10, 52.20, 43.18, 40.24, 39.92, 47.87, 37.77, 40.11, 49.85, 48.61, 38.62, 54.25, 34.84, 47.75, 43.82, 55.97, 58.23, 42.97, 42.38, 36.11, 37.53, 42.65, 50.96, 47.43, 56.24, 45.60, 46.39, 35.22, 48.56, 32.97, 57.88, 36.05, 37.72, 50.36, 32.12, 41.55, 54.66, 57.81, 54.58, 32.88, 54.37, 40.45, 47.61, 60.49, 43.11, 27.32, 44.03, 33.56, 37.26, 54.64, 43.12, 25.34, 49.79, 83.56, 40.09, 60.81, 49.81]\n",
    "dem_share_OH = [56.94, 50.46, 65.99, 45.88, 42.23, 45.26, 57.01, 53.61, 59.10, 61.48, 43.43, 44.69, 54.59, 48.36, 45.89, 48.62, 43.92, 38.23, 28.79, 63.57, 38.07, 40.18, 43.05, 41.56, 42.49, 36.06, 52.76, 46.07, 39.43, 39.26, 47.47, 27.92, 38.01, 45.45, 29.07, 28.94, 51.28, 50.10, 39.84, 36.43, 35.71, 31.47, 47.01, 40.10, 48.76, 31.56, 39.86, 45.31, 35.47, 51.38, 46.33, 48.73, 41.77, 41.32, 48.46, 53.14, 34.01, 54.74, 40.67, 38.96, 46.29, 38.25, 6.80, 31.75, 46.33, 44.90, 33.57, 38.10, 39.67, 40.47, 49.44, 37.62, 36.71, 46.73, 42.20, 53.16, 52.40, 58.36, 68.02, 38.53, 34.58, 69.64, 60.50, 53.53, 36.54, 49.58, 41.97, 38.11]\n",
    "\n",
    "sample1 = np.array(dem_share_OH)\n",
    "sample2 = np.array(dem_share_PA)\n",
    "\n",
    "print(\"No of states in PA =\",len(sample2))\n",
    "print(\"No of states in OH =\",len(sample1))\n",
    "#dem_share_OH\n",
    "mean,lower,upper = bootstrap_mean_ci(sample1, sample1.shape[0],25000,90)\n",
    "print(\"Mean of OH =\",mean)\n",
    "print(\"Lower bound =\",lower)\n",
    "print(\"Upper bounf =\",upper)\n",
    "\n",
    "#dem_share_PA\n",
    "mean,lower,upper = bootstrap_mean_ci(sample2, sample2.shape[0],25000,90)\n",
    "print(\"Mean of PA =\",mean)\n",
    "print(\"Lower bound =\",lower)\n",
    "print(\"Upper bounf =\",upper)\n",
    "\n",
    "\n",
    "pvalue = permut_test(sample1, sample2, 20000)\n",
    "print(\"p-value =\",pvalue)\n"
   ]
  },
  {
   "cell_type": "code",
   "execution_count": null,
   "metadata": {},
   "outputs": [],
   "source": []
  },
  {
   "cell_type": "code",
   "execution_count": null,
   "metadata": {},
   "outputs": [],
   "source": []
  }
 ],
 "metadata": {
  "colab": {
   "include_colab_link": true,
   "name": "bootstrap.ipynb",
   "provenance": []
  },
  "kernelspec": {
   "display_name": "Python 3",
   "language": "python",
   "name": "python3"
  },
  "language_info": {
   "codemirror_mode": {
    "name": "ipython",
    "version": 3
   },
   "file_extension": ".py",
   "mimetype": "text/x-python",
   "name": "python",
   "nbconvert_exporter": "python",
   "pygments_lexer": "ipython3",
   "version": "3.8.8"
  },
  "pycharm": {
   "stem_cell": {
    "cell_type": "raw",
    "metadata": {
     "collapsed": false
    },
    "source": []
   }
  }
 },
 "nbformat": 4,
 "nbformat_minor": 1
}
